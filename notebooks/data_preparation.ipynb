{
 "cells": [
  {
   "cell_type": "code",
   "execution_count": 25,
   "metadata": {},
   "outputs": [],
   "source": [
    "import os\n",
    "import pandas as pd\n",
    "import numpy as np\n",
    "from sklearn.model_selection import train_test_split\n",
    "\n",
    "DATAPATH = \"../data\""
   ]
  },
  {
   "cell_type": "code",
   "execution_count": 26,
   "metadata": {},
   "outputs": [],
   "source": [
    "df1 = pd.read_csv(os.path.join(DATAPATH, \"training_all_mar22.csv\")) #training data available in march 2022\n",
    "df2 = pd.read_csv(os.path.join(DATAPATH, \"synthesis_round1.csv\")) #new experimental data\n",
    "df = pd.concat([df1, df2], ignore_index=True)\n",
    "df.to_csv(os.path.join(DATAPATH, \"osm_exp_all.csv\"), index=False) #save all for new training"
   ]
  },
  {
   "cell_type": "code",
   "execution_count": 27,
   "metadata": {},
   "outputs": [],
   "source": [
    "# create train and test files for ZairaChem\n",
    "def binarize(df, cutoff):\n",
    "    bin = []\n",
    "    for v in df[\"activity\"]:\n",
    "        if v <= cutoff:\n",
    "            b = 1\n",
    "        else:\n",
    "            b = 0\n",
    "        bin += [b]\n",
    "    df[\"bin\"] = bin\n",
    "    return df\n",
    "\n",
    "def random_split(df, size):\n",
    "    indices = np.arange(len(df))\n",
    "    X_train, X_test, y_train, y_test, i_train, i_test = train_test_split(df[\"smiles\"], df[\"activity\"], indices, test_size=size, stratify=df[\"bin\"])\n",
    "    train = df.iloc[i_train]\n",
    "    test = df.iloc[i_test]\n",
    "    return train, test\n"
   ]
  },
  {
   "cell_type": "code",
   "execution_count": 29,
   "metadata": {},
   "outputs": [],
   "source": [
    "CUTOFF = 1\n",
    "\n",
    "df_bin = binarize(df, CUTOFF)\n",
    "train, test = random_split(df_bin, 0.2)\n",
    "train.to_csv(os.path.join(DATAPATH, \"train_test_splits\", \"osm_train_{}.csv\".format(CUTOFF)), index=False)\n",
    "test.to_csv(os.path.join(DATAPATH, \"train_test_splits\", \"osm_test_{}.csv\".format(CUTOFF)), index=False)\n"
   ]
  },
  {
   "cell_type": "code",
   "execution_count": null,
   "metadata": {},
   "outputs": [],
   "source": []
  }
 ],
 "metadata": {
  "kernelspec": {
   "display_name": "eosce",
   "language": "python",
   "name": "python3"
  },
  "language_info": {
   "codemirror_mode": {
    "name": "ipython",
    "version": 3
   },
   "file_extension": ".py",
   "mimetype": "text/x-python",
   "name": "python",
   "nbconvert_exporter": "python",
   "pygments_lexer": "ipython3",
   "version": "3.8.16"
  },
  "orig_nbformat": 4
 },
 "nbformat": 4,
 "nbformat_minor": 2
}
