{
 "cells": [
  {
   "cell_type": "code",
   "execution_count": 16,
   "metadata": {},
   "outputs": [],
   "source": [
    "import os\n",
    "import pandas as pd\n",
    "import numpy as np\n",
    "from sklearn.model_selection import train_test_split\n",
    "\n",
    "DATAPATH = \"../data\""
   ]
  },
  {
   "cell_type": "code",
   "execution_count": 17,
   "metadata": {},
   "outputs": [],
   "source": [
    "df1 = pd.read_csv(os.path.join(DATAPATH, \"osm_competition.csv\")) # OSM data from the series4 competition (including competition results)\n",
    "df2 = pd.read_csv(os.path.join(DATAPATH, \"evariste_nov21.csv\")) # New experimental data Evariste from November 2021\n",
    "df3 = pd.read_csv(os.path.join(DATAPATH, \"evariste_mar22.csv\")) # New experimental data Evariste from March 2022\n",
    "df4 = pd.read_csv(os.path.join(DATAPATH, \"ersilia_nov22.csv\")) # New experimental data Ersilia from November 2022\n",
    "df5 = pd.read_csv(os.path.join(DATAPATH, \"evariste_feb23.csv\")) # New experimental data Evariste from February 2023\n",
    "df = pd.concat([df1, df2, df3, df4, df5], ignore_index=True)\n",
    "df.to_csv(os.path.join(DATAPATH, \"osm_all.csv\"), index=False) # All experimental data available for OSM"
   ]
  },
  {
   "cell_type": "code",
   "execution_count": 18,
   "metadata": {},
   "outputs": [],
   "source": [
    "# create train and test files for ZairaChem\n",
    "def binarize(df, cutoff):\n",
    "    bin = []\n",
    "    for v in df[\"activity\"]:\n",
    "        if v <= cutoff:\n",
    "            b = 1\n",
    "        else:\n",
    "            b = 0\n",
    "        bin += [b]\n",
    "    df[\"bin\"] = bin\n",
    "    return df\n",
    "\n",
    "def random_split(df, size):\n",
    "    indices = np.arange(len(df))\n",
    "    X_train, X_test, y_train, y_test, i_train, i_test = train_test_split(df[\"smiles\"], df[\"activity\"], indices, test_size=size, stratify=df[\"bin\"])\n",
    "    train = df.iloc[i_train]\n",
    "    test = df.iloc[i_test]\n",
    "    return train, test\n"
   ]
  },
  {
   "cell_type": "code",
   "execution_count": 20,
   "metadata": {},
   "outputs": [],
   "source": [
    "CUTOFF = 2.5\n",
    "#create 5 splits for fold validation of the zairachem models:\n",
    "\n",
    "for i in np.arange(1,6):\n",
    "    df_bin = binarize(df, CUTOFF)\n",
    "    train, test = random_split(df_bin, 0.2)\n",
    "    train.to_csv(os.path.join(DATAPATH, \"train_test_splits\", \"osm_train{}_{}.csv\".format(i, CUTOFF)), index=False)\n",
    "    test.to_csv(os.path.join(DATAPATH, \"train_test_splits\", \"osm_test{}_{}.csv\".format(i, CUTOFF)), index=False)\n"
   ]
  },
  {
   "attachments": {},
   "cell_type": "markdown",
   "metadata": {},
   "source": [
    "# Model Performance\n",
    "Model performance using ZairaChem "
   ]
  },
  {
   "cell_type": "code",
   "execution_count": null,
   "metadata": {},
   "outputs": [],
   "source": []
  }
 ],
 "metadata": {
  "kernelspec": {
   "display_name": "eosce",
   "language": "python",
   "name": "python3"
  },
  "language_info": {
   "codemirror_mode": {
    "name": "ipython",
    "version": 3
   },
   "file_extension": ".py",
   "mimetype": "text/x-python",
   "name": "python",
   "nbconvert_exporter": "python",
   "pygments_lexer": "ipython3",
   "version": "3.8.16"
  },
  "orig_nbformat": 4
 },
 "nbformat": 4,
 "nbformat_minor": 2
}
