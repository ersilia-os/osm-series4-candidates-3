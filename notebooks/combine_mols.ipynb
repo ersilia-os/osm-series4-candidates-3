{
 "cells": [
  {
   "cell_type": "code",
   "execution_count": 87,
   "metadata": {},
   "outputs": [],
   "source": [
    "import os\n",
    "import pandas as pd\n",
    "DATAPATH = \"../data/combine_mols\""
   ]
  },
  {
   "cell_type": "code",
   "execution_count": 88,
   "metadata": {},
   "outputs": [
    {
     "name": "stdout",
     "output_type": "stream",
     "text": [
      "(16, 15)\n",
      "9\n",
      "(74, 15)\n",
      "60\n",
      "(111, 15)\n",
      "90\n",
      "(53, 15)\n",
      "34\n"
     ]
    }
   ],
   "source": [
    "#get the smiles discarding any that have less than 100 MW\n",
    "lab_data = [\"Cook's group csv.csv\", \"Dickman's group CSV.csv\", \"G25 alcohol containing Cmpds.csv\", \"Lab218 csv.csv\"]\n",
    "smiles= []\n",
    "for d in lab_data:\n",
    "    df = pd.read_csv(os.path.join(DATAPATH, \"lab_available\", d))\n",
    "    print(df.shape)\n",
    "    df = df[df[\"Molecular Weight\"]>100]\n",
    "    smi = df[\"SMILES\"].tolist()\n",
    "    print(len(smi))\n",
    "    smiles += smi"
   ]
  },
  {
   "cell_type": "code",
   "execution_count": 89,
   "metadata": {},
   "outputs": [
    {
     "name": "stdout",
     "output_type": "stream",
     "text": [
      "193\n"
     ]
    }
   ],
   "source": [
    "#make sure all molecules contain an alcohol group\n",
    "from rdkit import Chem\n",
    "\n",
    "def has_alcohol_group(molecule):\n",
    "    mol = Chem.MolFromSmiles(molecule)\n",
    "    if mol is not None:\n",
    "        # Check if the molecule contains an alcohol group\n",
    "        for atom in mol.GetAtoms():\n",
    "            if atom.GetAtomicNum() == 8 and atom.GetTotalNumHs() == 1:\n",
    "                return True\n",
    "    return False\n",
    "\n",
    "def filter_molecules_with_alcohol(molecule_list):\n",
    "    filtered_molecules = [mol for mol in molecule_list if has_alcohol_group(mol)]\n",
    "    return filtered_molecules\n",
    "\n",
    "filtered_smiles = filter_molecules_with_alcohol(smiles)\n",
    "print(len(filtered_smiles))"
   ]
  },
  {
   "cell_type": "code",
   "execution_count": 90,
   "metadata": {},
   "outputs": [
    {
     "name": "stdout",
     "output_type": "stream",
     "text": [
      "137\n"
     ]
    }
   ],
   "source": [
    "#for simplicity we will only combine molecules that have one alcohol group, not more\n",
    "def count_alcohol_groups(molecule):\n",
    "    mol = Chem.MolFromSmiles(molecule)\n",
    "    if mol is not None:\n",
    "        # Count the number of alcohol groups in the molecule\n",
    "        alcohol_count = sum(1 for atom in mol.GetAtoms() if atom.GetAtomicNum() == 8 and atom.GetTotalNumHs() == 1)\n",
    "        return alcohol_count\n",
    "    return 0\n",
    "\n",
    "def filter_molecules_with_one_alcohol(molecule_list):\n",
    "    filtered_molecules = [mol for mol in molecule_list if count_alcohol_groups(mol) == 1]\n",
    "    return filtered_molecules\n",
    "\n",
    "filtered_smiles = filter_molecules_with_one_alcohol(filtered_smiles)\n",
    "print(len(filtered_smiles))"
   ]
  },
  {
   "cell_type": "code",
   "execution_count": 91,
   "metadata": {},
   "outputs": [
    {
     "data": {
      "image/png": "[encoded data removed]",
      "text/plain": [
       "<rdkit.Chem.rdchem.Mol at 0x7f033ce092a0>"
      ]
     },
     "execution_count": 91,
     "metadata": {},
     "output_type": "execute_result"
    }
   ],
   "source": [
    "scaffold = \"OC1=CN=CC2=NN=C(N12)C1=CC=C(OC(F)F)C=C1\"\n",
    "mol = Chem.MolFromSmiles(scaffold)\n",
    "mol"
   ]
  },
  {
   "cell_type": "code",
   "execution_count": 92,
   "metadata": {},
   "outputs": [
    {
     "data": {
      "image/png": "[encoded data removed]",
      "text/plain": [
       "<rdkit.Chem.rdchem.Mol at 0x7f033fbb17e0>"
      ]
     },
     "execution_count": 92,
     "metadata": {},
     "output_type": "execute_result"
    }
   ],
   "source": [
    "scaffold_dummy = \"FC(F)OC1=CC=C(C=C1)C1=NN=C2C=NC=C(OI)N12\" #contains an extra I for the join\n",
    "mol = Chem.MolFromSmiles(scaffold_dummy)\n",
    "mol"
   ]
  },
  {
   "cell_type": "code",
   "execution_count": 93,
   "metadata": {},
   "outputs": [],
   "source": [
    "# Replace OH group by I in the fragments to allow the joining\n",
    "\n",
    "def replace_oh_with_i(molecule_list):\n",
    "    modified_molecules = []\n",
    "    for smi in molecule_list:\n",
    "        mol = Chem.MolFromSmiles(smi)\n",
    "        if mol is not None:\n",
    "            # Find the atom indices of the -OH group\n",
    "            oh_atom_indices = [atom.GetIdx() for atom in mol.GetAtoms() if atom.GetSymbol() == 'O' and atom.GetTotalNumHs() == 1]\n",
    "\n",
    "            # Replace -OH with I\n",
    "            for oh_index in oh_atom_indices:\n",
    "                mol.GetAtomWithIdx(oh_index).SetAtomicNum(53)  # 53 is the atomic number for iodine\n",
    "\n",
    "            # Convert the modified molecule to SMILES notation\n",
    "            modified_smi = Chem.MolToSmiles(mol)\n",
    "            modified_molecules.append(modified_smi)\n",
    "\n",
    "    return modified_molecules\n",
    "\n",
    "dummy_frags = replace_oh_with_i(filtered_smiles)"
   ]
  },
  {
   "cell_type": "code",
   "execution_count": 94,
   "metadata": {},
   "outputs": [],
   "source": [
    "from CombineMols.CombineMols import CombineMols\n",
    "\n",
    "combined_smiles = []\n",
    "\n",
    "for dummy_frag in dummy_frags:\n",
    "    mol1 = Chem.MolFromSmiles(scaffold_dummy)\n",
    "    mol2 = Chem.MolFromSmiles(dummy_frag)\n",
    "    m = CombineMols(mol1, mol2, \"I\")\n",
    "    smi = Chem.MolToSmiles(m[0])\n",
    "    combined_smiles += [smi]\n",
    "\n",
    "print(len(combined_smiles))"
   ]
  },
  {
   "cell_type": "code",
   "execution_count": 98,
   "metadata": {},
   "outputs": [],
   "source": [
    "#save the file to manually check if the joining is correct before running predictions\n",
    "df = pd.DataFrame({\"fragment\": filtered_smiles, \"dummy\": dummy_frags, \"smiles\":combined_smiles})\n",
    "df.to_csv(os.path.join(DATAPATH, \"combined_mols.csv\"), index=False)"
   ]
  }
 ],
 "metadata": {
  "kernelspec": {
   "display_name": "chem",
   "language": "python",
   "name": "python3"
  },
  "language_info": {
   "codemirror_mode": {
    "name": "ipython",
    "version": 3
   },
   "file_extension": ".py",
   "mimetype": "text/x-python",
   "name": "python",
   "nbconvert_exporter": "python",
   "pygments_lexer": "ipython3",
   "version": "3.11.5"
  }
 },
 "nbformat": 4,
 "nbformat_minor": 2
}
